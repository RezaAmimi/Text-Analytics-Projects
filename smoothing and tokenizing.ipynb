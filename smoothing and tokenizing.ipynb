{
 "cells": [
  {
   "cell_type": "code",
   "execution_count": 1,
   "metadata": {
    "colab": {
     "base_uri": "https://localhost:8080/"
    },
    "id": "AinSVo5kL5ze",
    "outputId": "4008be86-4e40-424f-a363-ccb449ead74d"
   },
   "outputs": [
    {
     "name": "stderr",
     "output_type": "stream",
     "text": [
      "[nltk_data] Downloading package brown to /Users/mine/nltk_data...\n",
      "[nltk_data]   Package brown is already up-to-date!\n"
     ]
    }
   ],
   "source": [
    "import nltk\n",
    "nltk.download('brown')\n",
    "from nltk.corpus import brown"
   ]
  },
  {
   "cell_type": "code",
   "execution_count": 8,
   "metadata": {
    "id": "wipmIjXbs3D4"
   },
   "outputs": [
    {
     "name": "stdout",
     "output_type": "stream",
     "text": [
      "['The', 'jury', 'further', 'said', 'in', 'term-end', 'presentments', 'that', 'the', 'City', 'Executive', 'Committee', ',', 'which', 'had', 'over-all', 'charge', 'of', 'the', 'election', ',', '``', 'deserves', 'the', 'praise', 'and', 'thanks', 'of', 'the', 'City', 'of', 'Atlanta', \"''\", 'for', 'the', 'manner', 'in', 'which', 'the', 'election', 'was', 'conducted', '.']\n"
     ]
    }
   ],
   "source": [
    "sentences = brown.sents()\n",
    "s_list = []\n",
    "for i, sent in enumerate(sentences):\n",
    "    s_list.append(sent)\n",
    "print(s_list[1])\n",
    "for i, line in enumerate(s_list):\n",
    "    s_list[i].append(\"/s\")\n",
    "\n",
    "for i, line in enumerate(s_list):\n",
    "    x = [\"<s>\"]\n",
    "    s_list[i] = x + s_list[i]"
   ]
  },
  {
   "cell_type": "code",
   "execution_count": 11,
   "metadata": {},
   "outputs": [
    {
     "data": {
      "text/plain": [
       "['The',\n",
       " 'jury',\n",
       " 'further',\n",
       " 'said',\n",
       " 'in',\n",
       " 'term-end',\n",
       " 'presentments',\n",
       " 'that',\n",
       " 'the',\n",
       " 'City',\n",
       " 'Executive',\n",
       " 'Committee',\n",
       " ',',\n",
       " 'which',\n",
       " 'had',\n",
       " 'over-all',\n",
       " 'charge',\n",
       " 'of',\n",
       " 'the',\n",
       " 'election',\n",
       " ',',\n",
       " '``',\n",
       " 'deserves',\n",
       " 'the',\n",
       " 'praise',\n",
       " 'and',\n",
       " 'thanks',\n",
       " 'of',\n",
       " 'the',\n",
       " 'City',\n",
       " 'of',\n",
       " 'Atlanta',\n",
       " \"''\",\n",
       " 'for',\n",
       " 'the',\n",
       " 'manner',\n",
       " 'in',\n",
       " 'which',\n",
       " 'the',\n",
       " 'election',\n",
       " 'was',\n",
       " 'conducted',\n",
       " '.']"
      ]
     },
     "execution_count": 11,
     "metadata": {},
     "output_type": "execute_result"
    }
   ],
   "source": []
  },
  {
   "cell_type": "code",
   "execution_count": 4,
   "metadata": {
    "colab": {
     "base_uri": "https://localhost:8080/",
     "height": 0
    },
    "id": "5SINGSUxMNGx",
    "outputId": "55c21600-6777-4a7c-fbb0-1e13c42bb249"
   },
   "outputs": [
    {
     "name": "stdout",
     "output_type": "stream",
     "text": [
      "40138\n",
      "5734\n",
      "11468\n"
     ]
    }
   ],
   "source": [
    "#Divided data \n",
    "trn_data = s_list[:int(0.7*len(sentences))] \n",
    "dev_data = s_list[int(0.7*len(sentences)):int(0.8*len(sentences))]\n",
    "tst_data = s_list[int(0.8*len(sentences)):]\n",
    "\n",
    "print(len(trn_data))\n",
    "print(len(dev_data))\n",
    "print(len(tst_data))"
   ]
  },
  {
   "cell_type": "code",
   "execution_count": 5,
   "metadata": {
    "id": "GpCa-WuSkBZm"
   },
   "outputs": [],
   "source": [
    "#getting the vocabsize\n",
    "def vocabsize (data):\n",
    "    size = 0\n",
    "    vocab = []\n",
    "    for sent in data:\n",
    "        for word in sent:\n",
    "            if word not in vocab:\n",
    "                vocab.append(word)\n",
    "                size=size+1\n",
    "    return  size"
   ]
  },
  {
   "cell_type": "code",
   "execution_count": 6,
   "metadata": {
    "id": "55HHdjlUk2jV"
   },
   "outputs": [],
   "source": [
    "trn_data_vocabsize = vocabsize (trn_data)\n",
    "dev_data_vocabsize = vocabsize (dev_data)\n",
    "tst_data_vocabsize = vocabsize (tst_data)"
   ]
  },
  {
   "cell_type": "code",
   "execution_count": 7,
   "metadata": {
    "colab": {
     "base_uri": "https://localhost:8080/",
     "height": 0
    },
    "id": "jAB6Mfp3nyAW",
    "outputId": "773e0c32-2e44-4fb7-dc23-9ebc4d460554"
   },
   "outputs": [
    {
     "name": "stdout",
     "output_type": "stream",
     "text": [
      "49209\n"
     ]
    }
   ],
   "source": [
    "print(trn_data_vocabsize)"
   ]
  },
  {
   "cell_type": "code",
   "execution_count": null,
   "metadata": {
    "id": "CrQnNCy4az03"
   },
   "outputs": [],
   "source": []
  },
  {
   "cell_type": "code",
   "execution_count": null,
   "metadata": {
    "id": "grtPEjreaz60"
   },
   "outputs": [],
   "source": []
  },
  {
   "cell_type": "code",
   "execution_count": null,
   "metadata": {
    "id": "F_Hky4Mpa0CJ"
   },
   "outputs": [],
   "source": []
  },
  {
   "cell_type": "markdown",
   "metadata": {
    "id": "jWS2U46vaLes"
   },
   "source": [
    "#a)\n",
    "#Write a code that learns vanilla unigram and bigram models on the training data as Python dictionaries. Report the perplexity of your unigram and bigram models on the training data."
   ]
  },
  {
   "cell_type": "code",
   "execution_count": 8,
   "metadata": {
    "id": "_3jNuaZ0MoFj"
   },
   "outputs": [],
   "source": [
    "\n",
    "\n",
    "import io, sys, math, re\n",
    "from collections import defaultdict\n",
    "import numpy as np\n"
   ]
  },
  {
   "cell_type": "code",
   "execution_count": 9,
   "metadata": {
    "id": "8eNml6f8R-Np"
   },
   "outputs": [],
   "source": [
    "#building the n gram model\n",
    "\n",
    "def build_ngram(data, n):\n",
    "\n",
    "    total_number_words = 0\n",
    "    counts = defaultdict(lambda: defaultdict(lambda: 0.0))\n",
    "\n",
    "    for sentence in data:\n",
    "        sentence = tuple(sentence)\n",
    "\n",
    "        for i in range(len(sentence)):\n",
    "            total_number_words +=1\n",
    "            for k in range(n):\n",
    "                if i-k < 0:\n",
    "                    break\n",
    "                counts[sentence[i-k:i]][sentence[i]] +=1 \n",
    "                           \n",
    "\n",
    "    proba  = defaultdict(lambda: defaultdict(lambda: 0.0))\n",
    "\n",
    "    for context in counts.keys():\n",
    "\n",
    "        denom =0\n",
    "        for w in counts[context].keys():\n",
    "            denom += counts[context][w]\n",
    "        for w in counts[context].keys():\n",
    "            proba[context][w] = counts[context][w]/denom \n",
    "    \n",
    "    return proba"
   ]
  },
  {
   "cell_type": "code",
   "execution_count": 10,
   "metadata": {
    "colab": {
     "base_uri": "https://localhost:8080/",
     "height": 0
    },
    "id": "rFXzg1mQXOWR",
    "outputId": "a82e60c9-7a3b-481c-8e23-d4c499162089"
   },
   "outputs": [
    {
     "name": "stdout",
     "output_type": "stream",
     "text": [
      "build ngram model with n =  2\n"
     ]
    }
   ],
   "source": [
    "n = 2\n",
    "print(\"build ngram model with n = \", n)\n",
    "model_unigram = build_ngram(trn_data, n)"
   ]
  },
  {
   "cell_type": "code",
   "execution_count": 11,
   "metadata": {
    "id": "VDlJ4h0Dh1hS"
   },
   "outputs": [],
   "source": [
    "def get_prob(model, context, w):\n",
    "   #if context in model and w in model[context]:\n",
    "        return model[context][w]"
   ]
  },
  {
   "cell_type": "code",
   "execution_count": 12,
   "metadata": {
    "id": "3If1Ce8fhanx"
   },
   "outputs": [],
   "source": [
    "def perplexity(model, data, n):\n",
    "    perp, T = 0.0, 0\n",
    "    for sentence in data:\n",
    "        sentence = tuple(sentence)\n",
    "        for i in range(1, len(sentence)):\n",
    "            nc = min(n-1, i)\n",
    "            context = sentence[i-nc:i]\n",
    "            perp += -math.log(get_prob(model, context, sentence[i]))\n",
    "            T += 1\n",
    "    perp = math.exp(perp/T)\n",
    "    return perp"
   ]
  },
  {
   "cell_type": "code",
   "execution_count": 13,
   "metadata": {
    "colab": {
     "base_uri": "https://localhost:8080/",
     "height": 0
    },
    "id": "20J3OlobiM7K",
    "outputId": "b9f28c77-0091-48f4-8759-e692552e1e29"
   },
   "outputs": [
    {
     "name": "stdout",
     "output_type": "stream",
     "text": [
      "Unigram model perplexity: 1208.3057291645355\n"
     ]
    }
   ],
   "source": [
    "print(\"Unigram model perplexity:\", perplexity(model_unigram, trn_data, n=1))"
   ]
  },
  {
   "cell_type": "code",
   "execution_count": 14,
   "metadata": {
    "colab": {
     "base_uri": "https://localhost:8080/",
     "height": 0
    },
    "id": "5DJOd97bk5hS",
    "outputId": "92cba3af-cf8d-4eba-95da-b2f43634b5df"
   },
   "outputs": [
    {
     "name": "stdout",
     "output_type": "stream",
     "text": [
      "build ngram model with n =  2\n",
      "bigram model perplexity: 64.0904088784753\n"
     ]
    }
   ],
   "source": [
    "#for the bigram model\n",
    "n = 2\n",
    "print(\"build ngram model with n = \", n)\n",
    "model_bigram = build_ngram(trn_data, n)\n",
    "print(\"bigram model perplexity:\", perplexity(model_bigram, trn_data, n=n))"
   ]
  },
  {
   "cell_type": "markdown",
   "metadata": {
    "id": "YBtOfC_Mnom_"
   },
   "source": [
    "#(b) Implement add-λ smoothing method. With varying λ values, try to draw a similar curve to P2-(d). You should measure the perplexity on the developing data."
   ]
  },
  {
   "cell_type": "code",
   "execution_count": 16,
   "metadata": {
    "id": "eeuvRD230KkQ"
   },
   "outputs": [],
   "source": [
    "def build_ngram_smoothing(data, n,k):\n",
    "\n",
    "    total_number_words = 0\n",
    "    counts = defaultdict(lambda: defaultdict(lambda: 0.0))\n",
    "\n",
    "    for sentence in data:\n",
    "\n",
    "        sentence = tuple(sentence)\n",
    "\n",
    "        for i in range(len(sentence)):\n",
    "            total_number_words +=1\n",
    "            for k in range(n):\n",
    "                if i-k < 0:\n",
    "                    break\n",
    "                counts[sentence[i-k:i]][sentence[i]] +=1 \n",
    "                           \n",
    "\n",
    "    proba  = defaultdict(lambda: defaultdict(lambda: 0.0))\n",
    "\n",
    "    for context in counts.keys():\n",
    "\n",
    "        denom =0\n",
    "        for w in counts[context].keys():\n",
    "            denom += counts[context][w]\n",
    "        for w in counts[context].keys():\n",
    "            proba[context][w] = ((counts[context][w])+k)/(denom+k*trn_data_vocabsize) \n",
    "    \n",
    "    return proba , counts #(denom+k*trn_data_vocabsize)"
   ]
  },
  {
   "cell_type": "code",
   "execution_count": 17,
   "metadata": {
    "id": "yRpxUC1uREO0"
   },
   "outputs": [],
   "source": [
    "def get_prob_smoothing(model, context, w,k,count_dict):\n",
    "    denom = 0\n",
    "    if context in model and w in model[context]: \n",
    "        return model[context][w]\n",
    "    elif context in model and w not in model[context]:\n",
    "        value=dict(count_dict[context].items())\n",
    "        denom = sum(value.values())\n",
    "        return 1/(denom+trn_data_vocabsize*k)      \n",
    "    else:\n",
    "        return 1/(trn_data_vocabsize*k)"
   ]
  },
  {
   "cell_type": "code",
   "execution_count": 19,
   "metadata": {
    "id": "CqoDTGvLUwKm"
   },
   "outputs": [],
   "source": [
    "def perplexity_smooth(model, data, n, k,count_dict):\n",
    "    perp, T = 0.0, 0\n",
    "    for sentence in data:\n",
    "        sentence = tuple(sentence)\n",
    "        for i in range(1, len(sentence)):\n",
    "            nc = min(n-1, i)\n",
    "            context = sentence[i-nc:i]\n",
    "            perp += -math.log(get_prob_smoothing(model, context, sentence[i],k,count_dict))\n",
    "            T += 1\n",
    "    perp = math.exp(perp/T)\n",
    "    return perp"
   ]
  },
  {
   "cell_type": "code",
   "execution_count": 20,
   "metadata": {
    "colab": {
     "base_uri": "https://localhost:8080/",
     "height": 0
    },
    "id": "qj9bNMFqHy76",
    "outputId": "f241ac72-c5e1-4239-f065-c5e94760b5ba"
   },
   "outputs": [
    {
     "name": "stdout",
     "output_type": "stream",
     "text": [
      "build ngram model with n =  2\n",
      "bigram model perplexity: 772.8821599919268\n"
     ]
    }
   ],
   "source": [
    "n = 2\n",
    "print(\"build ngram model with n = \", n)\n",
    "model_bigram_smooth , count = build_ngram_smoothing(trn_data, n,1/1000)\n",
    "print(\"bigram model perplexity:\", perplexity_smooth(model_bigram_smooth, dev_data, n=n,k=1/1000, count_dict=count))"
   ]
  },
  {
   "cell_type": "code",
   "execution_count": 21,
   "metadata": {
    "id": "36gIjFwGH94a"
   },
   "outputs": [],
   "source": [
    "def best_lambda(n,k,data):\n",
    "  model_smooth , count = build_ngram_smoothing(trn_data, n , k)\n",
    "  return perplexity_smooth(model_smooth, data, n=n,k=k, count_dict=count)"
   ]
  },
  {
   "cell_type": "code",
   "execution_count": 22,
   "metadata": {
    "id": "1GbX7quo1UiT"
   },
   "outputs": [],
   "source": [
    "#find the best lamnda for bigram\n",
    "perp=[]\n",
    "k_list=[]\n",
    "k=1\n",
    "for i in range (50):\n",
    "  k_list.append(k) \n",
    "  perp.append(best_lambda(n=2,k=k,data=dev_data))\n",
    "  k=k/10"
   ]
  },
  {
   "cell_type": "code",
   "execution_count": 23,
   "metadata": {
    "colab": {
     "base_uri": "https://localhost:8080/",
     "height": 298
    },
    "id": "hd85G6bm5ONJ",
    "outputId": "19558090-4466-4346-c383-c88f8c580bbf"
   },
   "outputs": [
    {
     "name": "stdout",
     "output_type": "stream",
     "text": [
      "minimum lambda 1.0000000000000003e-49\n",
      "minimum perplexity 11.86377361429119\n"
     ]
    },
    {
     "data": {
      "image/png": "[encoded data removed]",
      "text/plain": [
       "<Figure size 432x288 with 1 Axes>"
      ]
     },
     "metadata": {
      "needs_background": "light"
     },
     "output_type": "display_data"
    }
   ],
   "source": [
    "import matplotlib.pyplot as plt\n",
    "plt.plot(perp,k_list)\n",
    "print('minimum lambda',min(k_list))\n",
    "print('minimum perplexity',min(perp))"
   ]
  },
  {
   "cell_type": "code",
   "execution_count": 24,
   "metadata": {
    "colab": {
     "base_uri": "https://localhost:8080/",
     "height": 298
    },
    "id": "69p_l9Jx-ppC",
    "outputId": "cee5b8f9-8f07-4c09-d201-e892b7608fa1"
   },
   "outputs": [
    {
     "name": "stdout",
     "output_type": "stream",
     "text": [
      "minimum lambda 1.0000000000000003e-49\n",
      "minimum perplexity 1130.109629009069\n"
     ]
    },
    {
     "data": {
      "image/png": "[encoded data removed]",
      "text/plain": [
       "<Figure size 432x288 with 1 Axes>"
      ]
     },
     "metadata": {
      "needs_background": "light"
     },
     "output_type": "display_data"
    }
   ],
   "source": [
    "#for unigram\n",
    "perp_uni=[]\n",
    "k_list_uni=[]\n",
    "k=1\n",
    "for i in range (50):\n",
    "  k_list_uni.append(k) \n",
    "  perp_uni.append(best_lambda(n=1,k=k,data=dev_data))\n",
    "  k=k/10\n",
    "plt.plot(k_list_uni,perp_uni)\n",
    "print('minimum lambda',min(k_list_uni))\n",
    "print('minimum perplexity',min(perp_uni))"
   ]
  },
  {
   "cell_type": "markdown",
   "metadata": {
    "id": "Ai2Yev456Axz"
   },
   "source": [
    "#(c) Pick the best λ value and train again your unigram and bigram models on training data + developing data. Report new perplexity of your unigram and bigram models on the test data.\n"
   ]
  },
  {
   "cell_type": "code",
   "execution_count": 25,
   "metadata": {
    "id": "SbUmOmkn6DQF"
   },
   "outputs": [],
   "source": [
    "#combining train and development data \n",
    "trn_data_1 = s_list[:int(0.8*len(sentences))] \n",
    "tst_data_1 = s_list[int(0.8*len(sentences)):]"
   ]
  },
  {
   "cell_type": "code",
   "execution_count": 26,
   "metadata": {
    "colab": {
     "base_uri": "https://localhost:8080/",
     "height": 0
    },
    "id": "xpOVWoP8HVaB",
    "outputId": "a32964db-f5a9-43ff-af1a-bd3e91a433cf"
   },
   "outputs": [
    {
     "name": "stdout",
     "output_type": "stream",
     "text": [
      "build ngram model with n =  1\n",
      "bigram model perplexity: 1076.4890760988549\n"
     ]
    }
   ],
   "source": [
    "#unigram\n",
    "n = 1\n",
    "print(\"build ngram model with n = \", n)\n",
    "model_bigram_smooth_1 , count = build_ngram_smoothing(trn_data_1, n,1.0000000000000003e-49)\n",
    "print(\"bigram model perplexity:\", perplexity_smooth(model_bigram_smooth_1, tst_data_1, n=1,k=1.0000000000000003e-49, count_dict=count))"
   ]
  },
  {
   "cell_type": "code",
   "execution_count": 27,
   "metadata": {
    "colab": {
     "base_uri": "https://localhost:8080/",
     "height": 0
    },
    "id": "BVM_JZR2Hz5Q",
    "outputId": "7214b662-fbf5-45fb-cabc-75cf989ad90f"
   },
   "outputs": [
    {
     "name": "stdout",
     "output_type": "stream",
     "text": [
      "build ngram model with n =  2\n",
      "bigram model perplexity: 11.636096923688147\n"
     ]
    }
   ],
   "source": [
    "#bigram\n",
    "n = 2\n",
    "print(\"build ngram model with n = \", n)\n",
    "model_bigram_smooth_2 , count = build_ngram_smoothing(trn_data_1, n , 1.0000000000000003e-49)\n",
    "print(\"bigram model perplexity:\", perplexity_smooth(model_bigram_smooth_2, tst_data_1, n=2,k=1.0000000000000003e-49, count_dict=count))"
   ]
  },
  {
   "cell_type": "markdown",
   "metadata": {
    "id": "ZprexBYNTfls"
   },
   "source": [
    "# (d) Generate random sentences based on the unigram and bigram language models from part (c). Report 5 sentences per model by sampling words from each model continuously until meeting the stop symbol ⟨/s⟩."
   ]
  },
  {
   "cell_type": "code",
   "execution_count": 28,
   "metadata": {
    "id": "83BTp7lEwHQI"
   },
   "outputs": [],
   "source": [
    "def get_proba_distrib(model, context):\n",
    "    \n",
    "    if context in model:\n",
    "        return model[context]\n",
    "    else:\n",
    "        return get_proba_distrib(model, context[1:])"
   ]
  },
  {
   "cell_type": "code",
   "execution_count": 29,
   "metadata": {
    "id": "nvmrwIfnwPaI"
   },
   "outputs": [],
   "source": [
    "def generate(model):\n",
    "    sentence = [\"<s>\"]\n",
    "    while sentence[-1] != \"/s\" and len(sentence)<20:\n",
    "        proba = get_proba_distrib(model, tuple(sentence))\n",
    "        w = np.random.choice((list(proba.keys())), 1)\n",
    "        sentence.append(w[0])\n",
    "    return sentence"
   ]
  },
  {
   "cell_type": "code",
   "execution_count": 30,
   "metadata": {
    "colab": {
     "base_uri": "https://localhost:8080/",
     "height": 0
    },
    "id": "PBQF1TLIwT0Z",
    "outputId": "96107bb0-8a8f-4d0a-9113-657bcba93c59"
   },
   "outputs": [
    {
     "name": "stdout",
     "output_type": "stream",
     "text": [
      "Results from unigram\n",
      "Generated sentence:  ['<s>', 'McElyee', 'Gigenza', 'archbishop', 'blood-flow', 'threads', 'Meir', 'catalytic', 'Adirondack', 'freight', 'Evelyn', '7599', 'supermachine', 'uppermost', 'paved', 'Westchester', 'powerfulness', 'Fury', 'tirades', 'Gazettes']\n",
      "Generated sentence:  ['<s>', 'Kreisler', 'Screvane', 'dusty-green', 'Nineteenth-century', 'was', 'applications', 'borrowed', 'wink', 'censuses', 'loose-leaf', 'offspring', 'sum', 'seeks', 'tyranny', 'condiments', 'McNeill', 'exhaled', 'bevel', 'fella']\n",
      "Generated sentence:  ['<s>', 'acid-fast', 'taxi-ways', 'impudently', 'regard', 'oxyhydroxides', 'Jarrodsville', 'lice', 'Idaho', 'rightfully', 'parasites', 'custodian', 'Catholic', 'hunts', 'Adriatic', 'impudent', 'Cherry', 'KCs', 'forcibly', 'lemmas']\n",
      "Generated sentence:  ['<s>', 'pronouncement', 'flaunting', 'Vision', 'pleads', 'tribes', 'Timmy', 'Telegraph', 'cross-fertilized', 'Talleyrand', 'Milk', 'greenware', 'paterollers', 'heroin', 'mollify', 'improvising', 'demolished', 'Hardings', 'nil', 'fine-grained']\n",
      "Generated sentence:  ['<s>', 'smoke-filled', 'larks', 'devices', 'starved', 'resounds', 'Wilkinson', 'khan', 'uranium', 'arch-enemy', 'enemies', 'emptiness', 'dispatched', 'coincided', 'was', 'fall-outs', 'Highways', 'worn-out', 'extirpating', 'indulge']\n"
     ]
    }
   ],
   "source": [
    "#from unigram \n",
    "print(\"Results from unigram\")\n",
    "print(\"Generated sentence: \",generate(model_bigram_smooth_1))\n",
    "print(\"Generated sentence: \",generate(model_bigram_smooth_1))\n",
    "print(\"Generated sentence: \",generate(model_bigram_smooth_1))\n",
    "print(\"Generated sentence: \",generate(model_bigram_smooth_1))\n",
    "print(\"Generated sentence: \",generate(model_bigram_smooth_1))"
   ]
  },
  {
   "cell_type": "code",
   "execution_count": 211,
   "metadata": {
    "colab": {
     "base_uri": "https://localhost:8080/",
     "height": 0
    },
    "id": "5XX-GBkpw0yz",
    "outputId": "0b3c97c6-b568-4deb-f47b-efcb14116c14"
   },
   "outputs": [
    {
     "name": "stdout",
     "output_type": "stream",
     "text": [
      "Results from bigram\n",
      "Generated sentence:  ['<s>', 'Boatyards', 'which', 'Divine', 'Being', 'somewhat', 'crazy', 'on', 'natural', 'fruits', 'once', 'whole', 'grain', 'at', 'McNeil', 'Island', 'Sound', '.', '/s']\n",
      "Generated sentence:  ['<s>', 'Chromatography', '.', '/s']\n",
      "Generated sentence:  ['<s>', 'Straight', 'vertical', 'position', 'within', 'sought', '``', 'confessing', 'that', \"Faulkner's\", 'total', 'war', 'against', 'submarine', 'elements', 'only', 'fully', 'explored', 'every', 'link']\n",
      "Generated sentence:  ['<s>', 'Acey', 'Squire', 'chewed', ',', 'straight', 'toward', 'that', 'moved', 'offices', '--', 'through', 'Hanover', ',', 'unhappy', 'and', 'glided', 'lower', 'through', 'Christopher']\n",
      "Generated sentence:  ['<s>', 'Electronics', 'Center', 'last', 'passable', ',', 'answering', '.', '/s']\n"
     ]
    }
   ],
   "source": [
    "#from bigram\n",
    "print(\"Results from bigram\")\n",
    "print(\"Generated sentence: \",generate(model_bigram_smooth_2))\n",
    "print(\"Generated sentence: \",generate(model_bigram_smooth_2))\n",
    "print(\"Generated sentence: \",generate(model_bigram_smooth_2))\n",
    "print(\"Generated sentence: \",generate(model_bigram_smooth_2))\n",
    "print(\"Generated sentence: \",generate(model_bigram_smooth_2))"
   ]
  },
  {
   "cell_type": "markdown",
   "metadata": {
    "id": "g_oi2PVSYc7L"
   },
   "source": [
    "#(e) Choose at least one additional extension to implement. The available options are trigram, Good-Turing smoothing, interpolation method, and creative handling of unknown words. Verify whether some of your extensions could improve 1) perplexity on test data and 2) your random sentence generation in part (d)."
   ]
  },
  {
   "cell_type": "code",
   "execution_count": null,
   "metadata": {
    "id": "dTGrgBHsM2s2"
   },
   "outputs": [],
   "source": [
    "#we are using trigram and see if it improves"
   ]
  },
  {
   "cell_type": "code",
   "execution_count": 214,
   "metadata": {
    "colab": {
     "base_uri": "https://localhost:8080/",
     "height": 298
    },
    "id": "RAFSir6XNi4W",
    "outputId": "8e0381a2-9808-41ea-a4b4-74fae2071cbc"
   },
   "outputs": [
    {
     "name": "stdout",
     "output_type": "stream",
     "text": [
      "minimum lambda 1.0000000000000003e-49\n",
      "minimum perplexity 2.6547998954244014e-13\n"
     ]
    },
    {
     "data": {
      "image/png": "[encoded data removed]",
      "text/plain": [
       "<Figure size 432x288 with 1 Axes>"
      ]
     },
     "metadata": {
      "needs_background": "light"
     },
     "output_type": "display_data"
    }
   ],
   "source": [
    "#getting the best parmeter for trigram\n",
    "perp_uni_3=[]\n",
    "k_list_uni_3=[]\n",
    "k=1\n",
    "for i in range (50):\n",
    "  k_list_uni_3.append(k) \n",
    "  perp_uni_3.append(best_lambda(n=3,k=k,data=dev_data))\n",
    "  k=k/10\n",
    "plt.plot(k_list_uni,perp_uni)\n",
    "print('minimum lambda',min(k_list_uni_3))\n",
    "print('minimum perplexity',min(perp_uni_3))"
   ]
  },
  {
   "cell_type": "code",
   "execution_count": 227,
   "metadata": {
    "colab": {
     "base_uri": "https://localhost:8080/"
    },
    "id": "uSutw1rORb1N",
    "outputId": "071605b3-f20d-48ff-8659-b485213caef0"
   },
   "outputs": [
    {
     "name": "stdout",
     "output_type": "stream",
     "text": [
      "build ngram model with n =  3\n",
      "Trigram model perplexity: 2.182609485477493e-12\n"
     ]
    }
   ],
   "source": [
    "n = 3\n",
    "print(\"build ngram model with n = \", n)\n",
    "model_bigram_smooth_3 , count = build_ngram_smoothing(trn_data_1, n , 1.0000000000000003e-49)\n",
    "print(\"Trigram model perplexity:\", perplexity_smooth(model_bigram_smooth_3, tst_data_1, n=3,k=1.0000000000000003e-49, count_dict=count))\n",
    "#the preplexity for trigram decreased significantly compared to the bigram "
   ]
  },
  {
   "cell_type": "code",
   "execution_count": 230,
   "metadata": {
    "colab": {
     "base_uri": "https://localhost:8080/"
    },
    "id": "nDcpmjwCcc5c",
    "outputId": "3b677303-083d-4cce-9f38-0da6808729b1"
   },
   "outputs": [
    {
     "name": "stdout",
     "output_type": "stream",
     "text": [
      "Results from bigram\n",
      "Generated sentence:  ['<s>', 'Orchesis', ',', 'Golf', 'Club', 'shouting', ',', 'possession', 'of', 'guilty', 'knowledge', '.', '/s']\n",
      "Generated sentence:  ['<s>', 'Install', 'your', 'disappearing', 'stair', '(', 'or', 'wales', 'and', 'courses', 'for', 'knitted', 'fabrics', ')', 'are', 'not', 'one', 'we', 'would', 'ever']\n",
      "Generated sentence:  ['<s>', 'Corollary', '.', '/s']\n",
      "Generated sentence:  ['<s>', 'Olgivanna', '--', 'in', 'contradistinction', 'to', 'gentile', 'factory', 'workers', '--', '``', 'found', 'such', 'favor', 'with', 'the', 'interplay', 'of', 'competitive', 'forces']\n",
      "Generated sentence:  ['<s>', 'Unconcerned', 'with', 'the', 'First', 'Emperor', ',', 'Shih', 'Huang-ti', ',', 'in', 'circumstances', 'to', 'trust', 'Him', 'even', 'though', 'her', 'husband', 'through']\n"
     ]
    }
   ],
   "source": [
    "#from trigram\n",
    "print(\"Results from bigram\")\n",
    "print(\"Generated sentence: \",generate(model_bigram_smooth_3))\n",
    "print(\"Generated sentence: \",generate(model_bigram_smooth_3))\n",
    "print(\"Generated sentence: \",generate(model_bigram_smooth_3))\n",
    "print(\"Generated sentence: \",generate(model_bigram_smooth_3))\n",
    "print(\"Generated sentence: \",generate(model_bigram_smooth_3))"
   ]
  }
 ],
 "metadata": {
  "colab": {
   "collapsed_sections": [],
   "name": "IDS566 Assignment 1",
   "provenance": []
  },
  "kernelspec": {
   "display_name": "Python 3",
   "language": "python",
   "name": "python3"
  },
  "language_info": {
   "codemirror_mode": {
    "name": "ipython",
    "version": 3
   },
   "file_extension": ".py",
   "mimetype": "text/x-python",
   "name": "python",
   "nbconvert_exporter": "python",
   "pygments_lexer": "ipython3",
   "version": "3.8.5"
  }
 },
 "nbformat": 4,
 "nbformat_minor": 1
}
